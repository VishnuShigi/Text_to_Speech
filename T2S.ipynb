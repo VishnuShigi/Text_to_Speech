{
 "cells": [
  {
   "cell_type": "code",
   "execution_count": 1,
   "metadata": {},
   "outputs": [],
   "source": [
    "#Importing necessary libraries\n",
    "from tkinter import *\n",
    "import pyttsx3"
   ]
  },
  {
   "cell_type": "code",
   "execution_count": 2,
   "metadata": {},
   "outputs": [],
   "source": [
    "engine=pyttsx3.init()"
   ]
  },
  {
   "cell_type": "code",
   "execution_count": 3,
   "metadata": {},
   "outputs": [],
   "source": [
    "root=Tk()\n",
    "root.geometry(\"350x350\")\n",
    "root.configure(bg=\"ghost white\")\n",
    "root.title(\"T2S\")\n",
    "Label(root, text=\"T2S\", font=\"arial 20 bold\", bg='white smoke').pack()\n",
    "msg =StringVar()\n",
    "Label(root, text=\"Enter Text\", font=\"arial 15 bold\",bg='white smoke').place(x=20,y=60)\n",
    "entryf=Entry(root, textvariable=msg,width='50')\n",
    "entryf.place(x=20,y=100)\n",
    "\n",
    "def tts():\n",
    "    message=entryf.get()\n",
    "    engine.say(message)\n",
    "    engine.runAndWait()\n",
    "def exit():\n",
    "    root.destroy()\n",
    "def reset():\n",
    "    msg.set(\"\")\n",
    "\n",
    "Button(root,text=\"Play\",font='arial 15 bold',command=tts,width='4').place(x=25,y=140)\n",
    "Button(root,font='arial 15 bold',text ='EXIT',width='4',command=exit,bg='OrangeRed1').place(x=100,y=140)\n",
    "Button(root,font='arial 15 bold',text ='RESET',width='6',command=reset).place(x=175,y=140)\n",
    "\n",
    "root.mainloop()"
   ]
  }
 ],
 "metadata": {
  "kernelspec": {
   "display_name": "Python 3",
   "language": "python",
   "name": "python3"
  },
  "language_info": {
   "codemirror_mode": {
    "name": "ipython",
    "version": 3
   },
   "file_extension": ".py",
   "mimetype": "text/x-python",
   "name": "python",
   "nbconvert_exporter": "python",
   "pygments_lexer": "ipython3",
   "version": "3.9.4"
  }
 },
 "nbformat": 4,
 "nbformat_minor": 4
}
